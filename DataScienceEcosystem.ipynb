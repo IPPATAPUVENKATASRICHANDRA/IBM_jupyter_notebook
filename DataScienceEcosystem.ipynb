{
 "cells": [
  {
   "cell_type": "markdown",
   "id": "948c287e-8a8e-47b4-a5f0-99f2566d2c26",
   "metadata": {},
   "source": [
    "# Data Science Tools and Ecosystem"
   ]
  },
  {
   "cell_type": "markdown",
   "id": "f7137eaf-7a03-448b-8267-8b5ca33105a3",
   "metadata": {
    "tags": []
   },
   "source": [
    "In this notebook, we provide a comprehensive summary of the various data science tools and the ecosystem surrounding them. From programming languages and libraries to version control systems and visualization tools, this overview aims to offer insights into the rich landscape of tools available for data science practitioners.\n"
   ]
  },
  {
   "cell_type": "markdown",
   "id": "c6e70c13-5f5d-4677-921f-ad0a80bd5c65",
   "metadata": {},
   "source": [
    "\n",
    "Some of the popular languages that Data Scientists use are:\n",
    "\n",
    "1. **Python:** Widely adopted for its simplicity and extensive libraries, Python is a versatile language used for data analysis, machine learning, and statistical modeling.\n",
    "\n",
    "2. **R:** Specifically designed for statistical computing and data analysis, R provides a powerful environment for exploring and visualizing data, making it a favorite among statisticians and data analysts.\n",
    "\n",
    "3. **SQL (Structured Query Language):** Essential for working with relational databases, SQL is crucial for data retrieval, manipulation, and management in various data science projects.\n",
    "\n",
    "4. **Julia:** Known for its high-performance computing capabilities, Julia is gaining popularity in data science, especially for tasks that require complex numerical and scientific computations.\n",
    "\n",
    "\n",
    "\n"
   ]
  },
  {
   "cell_type": "markdown",
   "id": "5763bcfb-bf2c-4248-8b21-3da545eae754",
   "metadata": {},
   "source": [
    "# Data Science Tools\n",
    "\n",
    "| Data Science Tools          |\n",
    "| ---------------------------- |\n",
    "| Jupyter Notebooks            |\n",
    "| RStudio                      |\n",
    "| VS Code with Python support  |"
   ]
  },
  {
   "cell_type": "markdown",
   "id": "8bef7b1c-8283-455c-b860-d0c628114e72",
   "metadata": {},
   "source": [
    "### Examples of Evaluating Arithmetic Expressions in Python\n",
    "\n",
    "Below are a few examples of evaluating arithmetic expressions in Python. We'll explore basic arithmetic operations to demonstrate how Python handles mathematical calculations.\n",
    "\n",
    "\n"
   ]
  },
  {
   "cell_type": "code",
   "execution_count": 4,
   "id": "3fb01b2b-9d00-47c3-80a0-f81487fb6f50",
   "metadata": {
    "tags": []
   },
   "outputs": [
    {
     "data": {
      "text/plain": [
       "17"
      ]
     },
     "execution_count": 4,
     "metadata": {},
     "output_type": "execute_result"
    }
   ],
   "source": [
    "(3*4)+5\n",
    "# This a simple arithmetic expression to mutiply then add integers"
   ]
  },
  {
   "cell_type": "code",
   "execution_count": 5,
   "id": "7e0e9815-361d-4a58-9f07-10d3bf5fe9ca",
   "metadata": {
    "tags": []
   },
   "outputs": [
    {
     "data": {
      "text/plain": [
       "3.3333333333333335"
      ]
     },
     "execution_count": 5,
     "metadata": {},
     "output_type": "execute_result"
    }
   ],
   "source": [
    "# This will convert 200 minutes to hours by dividing by 60.\n",
    "minutes = 200\n",
    "hours = minutes / 60\n",
    "hours\n"
   ]
  },
  {
   "cell_type": "markdown",
   "id": "5c45dc82-4ba7-41c6-8732-7322801aed69",
   "metadata": {},
   "source": [
    "# Objectives:\n",
    "\n",
    "- Explore popular languages used in Data Science.\n",
    "- Provide an overview of essential Data Science tools and their ecosystem.\n",
    "- Demonstrate examples of evaluating arithmetic expressions in Python.\n",
    "- Introduce commonly used development environment open source tools.\n",
    "- Foster understanding of basic conversions, such as converting minutes to hours.\n"
   ]
  },
  {
   "cell_type": "markdown",
   "id": "09425ba0-dfe5-493a-a023-c4d03ad2e70e",
   "metadata": {},
   "source": [
    "## Author\n",
    "\n",
    "IPPATAPU VENKATA SRICHANDRA\n"
   ]
  },
  {
   "cell_type": "code",
   "execution_count": null,
   "id": "e884f765-3620-4109-8a29-726e6f490e5a",
   "metadata": {},
   "outputs": [],
   "source": []
  }
 ],
 "metadata": {
  "kernelspec": {
   "display_name": "Python",
   "language": "python",
   "name": "conda-env-python-py"
  },
  "language_info": {
   "codemirror_mode": {
    "name": "ipython",
    "version": 3
   },
   "file_extension": ".py",
   "mimetype": "text/x-python",
   "name": "python",
   "nbconvert_exporter": "python",
   "pygments_lexer": "ipython3",
   "version": "3.7.12"
  }
 },
 "nbformat": 4,
 "nbformat_minor": 5
}
